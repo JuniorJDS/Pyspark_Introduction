{
 "cells": [
  {
   "cell_type": "markdown",
   "metadata": {},
   "source": [
    "# Predicting the Price of houses with PySpark"
   ]
  },
  {
   "cell_type": "code",
   "execution_count": 1,
   "metadata": {},
   "outputs": [],
   "source": [
    "import numpy as np\n",
    "from os.path import expanduser\n",
    "from pyspark.context import SparkContext\n",
    "from pyspark.sql import SQLContext\n",
    "from pyspark.ml.feature import VectorAssembler\n",
    "\n",
    "from pyspark.ml.regression import LinearRegression\n",
    "from pyspark.ml.regression import DecisionTreeRegressor\n",
    "from pyspark.ml.regression import GBTRegressor\n",
    "from pyspark.ml.regression import RandomForestRegressor\n",
    "\n",
    "from pyspark.ml.evaluation import RegressionEvaluator\n",
    "from pyspark.ml.tuning import CrossValidator, ParamGridBuilder\n",
    "from pyspark.ml import Pipeline"
   ]
  },
  {
   "cell_type": "markdown",
   "metadata": {},
   "source": [
    "#### Creating a spark session - First, creating spark context, and then creating a session for SQL-like manipulation the Data"
   ]
  },
  {
   "cell_type": "code",
   "execution_count": 5,
   "metadata": {},
   "outputs": [],
   "source": [
    "#SRC_PATH = expanduser(\"~\") + '/SageMaker/mastering-ml-on-aws/chapter3/'\n",
    "SRC_PATH = 'boston-housing-dataset/'\n",
    "sc = SparkContext('local', 'test')\n",
    "sql = SQLContext(sc)"
   ]
  },
  {
   "cell_type": "markdown",
   "metadata": {},
   "source": [
    "#### Creating a dataset to train the data"
   ]
  },
  {
   "cell_type": "code",
   "execution_count": 6,
   "metadata": {},
   "outputs": [
    {
     "name": "stdout",
     "output_type": "stream",
     "text": [
      "+---+-------+----+-----+----+-----+-----+----+------+---+---+-------+------+-----+----+\n",
      "| ID|   CRIM|  ZN|INDUS|CHAS|  NOX|   RM| AGE|   DIS|RAD|TAX|PTRATIO|     B|LSTAT|MEDV|\n",
      "+---+-------+----+-----+----+-----+-----+----+------+---+---+-------+------+-----+----+\n",
      "|  1|7.52601| 0.0| 18.1|   0|0.713|6.417|98.3| 2.185| 24|666|   20.2|304.21|19.31|13.0|\n",
      "|  2| 0.0136|75.0|  4.0|   0| 0.41|5.888|47.6|7.3197|  3|469|   21.1| 396.9| 14.8|18.9|\n",
      "|  3|0.05789|12.5| 6.07|   0|0.409|5.878|21.4| 6.498|  4|345|   18.9|396.21|  8.1|22.0|\n",
      "|  4|0.05646| 0.0|12.83|   0|0.437|6.232|53.7|5.0141|  5|398|   18.7| 386.4|12.34|21.2|\n",
      "|  5|2.14918| 0.0|19.58|   0|0.871|5.709|98.5|1.6232|  5|403|   14.7|261.95|15.79|19.4|\n",
      "|  6|0.22876| 0.0| 8.56|   0| 0.52|6.405|85.4|2.7147|  5|384|   20.9|  70.8|10.63|18.6|\n",
      "|  7|0.00906|90.0| 2.97|   0|  0.4|7.088|20.8|7.3073|  1|285|   15.3|394.72| 7.85|32.2|\n",
      "|  8|0.03961| 0.0| 5.19|   0|0.515|6.037|34.5|5.9853|  5|224|   20.2| 396.9| 8.01|21.1|\n",
      "|  9|0.53412|20.0| 3.97|   0|0.647| 7.52|89.4|2.1398|  5|264|   13.0|388.37| 7.26|43.1|\n",
      "| 10|0.08873|21.0| 5.64|   0|0.439|5.963|45.7|6.8147|  4|243|   16.8|395.56|13.45|19.7|\n",
      "+---+-------+----+-----+----+-----+-----+----+------+---+---+-------+------+-----+----+\n",
      "only showing top 10 rows\n",
      "\n"
     ]
    }
   ],
   "source": [
    "housing_df = sql.read.csv(SRC_PATH + 'train.csv', header= True, inferSchema= True)\n",
    "housing_df.show(10)"
   ]
  },
  {
   "cell_type": "code",
   "execution_count": 7,
   "metadata": {},
   "outputs": [
    {
     "name": "stdout",
     "output_type": "stream",
     "text": [
      "root\n",
      " |-- ID: integer (nullable = true)\n",
      " |-- CRIM: double (nullable = true)\n",
      " |-- ZN: double (nullable = true)\n",
      " |-- INDUS: double (nullable = true)\n",
      " |-- CHAS: integer (nullable = true)\n",
      " |-- NOX: double (nullable = true)\n",
      " |-- RM: double (nullable = true)\n",
      " |-- AGE: double (nullable = true)\n",
      " |-- DIS: double (nullable = true)\n",
      " |-- RAD: integer (nullable = true)\n",
      " |-- TAX: integer (nullable = true)\n",
      " |-- PTRATIO: double (nullable = true)\n",
      " |-- B: double (nullable = true)\n",
      " |-- LSTAT: double (nullable = true)\n",
      " |-- MEDV: double (nullable = true)\n",
      "\n"
     ]
    }
   ],
   "source": [
    "housing_df.cache()\n",
    "housing_df.printSchema()"
   ]
  },
  {
   "cell_type": "markdown",
   "metadata": {},
   "source": [
    "    Apache spark requires the input dataset to have a single column with a vector of numbers representing all the training  features."
   ]
  },
  {
   "cell_type": "code",
   "execution_count": 8,
   "metadata": {},
   "outputs": [
    {
     "name": "stdout",
     "output_type": "stream",
     "text": [
      "+---+-------+----+-----+----+-----+-----+----+------+---+---+-------+------+-----+----+--------------------+\n",
      "| ID|   CRIM|  ZN|INDUS|CHAS|  NOX|   RM| AGE|   DIS|RAD|TAX|PTRATIO|     B|LSTAT|MEDV|            features|\n",
      "+---+-------+----+-----+----+-----+-----+----+------+---+---+-------+------+-----+----+--------------------+\n",
      "|  1|7.52601| 0.0| 18.1|   0|0.713|6.417|98.3| 2.185| 24|666|   20.2|304.21|19.31|13.0|[7.52601,0.0,18.1...|\n",
      "|  2| 0.0136|75.0|  4.0|   0| 0.41|5.888|47.6|7.3197|  3|469|   21.1| 396.9| 14.8|18.9|[0.0136,75.0,4.0,...|\n",
      "|  3|0.05789|12.5| 6.07|   0|0.409|5.878|21.4| 6.498|  4|345|   18.9|396.21|  8.1|22.0|[0.05789,12.5,6.0...|\n",
      "+---+-------+----+-----+----+-----+-----+----+------+---+---+-------+------+-----+----+--------------------+\n",
      "only showing top 3 rows\n",
      "\n"
     ]
    }
   ],
   "source": [
    "#all features to training without ID and MEDV\n",
    "training_features = [x for x in housing_df.columns if x not in ['ID', 'MEDV']]\n",
    "vector_assembler = VectorAssembler(inputCols=training_features, outputCol=\"features\")\n",
    "\n",
    "df_with_features_vector = vector_assembler.transform(housing_df)\n",
    "df_with_features_vector.show(3)"
   ]
  },
  {
   "cell_type": "code",
   "execution_count": 9,
   "metadata": {},
   "outputs": [],
   "source": [
    "#Split the data in train and test\n",
    "train_df, test_df = df_with_features_vector.randomSplit([0.8, 0.2])"
   ]
  },
  {
   "cell_type": "markdown",
   "metadata": {},
   "source": [
    "##  Training and Testing a Machinne Learning Model"
   ]
  },
  {
   "cell_type": "markdown",
   "metadata": {},
   "source": [
    "## Linear Regression"
   ]
  },
  {
   "cell_type": "code",
   "execution_count": 10,
   "metadata": {},
   "outputs": [
    {
     "name": "stdout",
     "output_type": "stream",
     "text": [
      "+---+-------+----+-----+----+-----+-----+----+------+---+---+-------+------+-----+----+--------------------+------------------+\n",
      "| ID|   CRIM|  ZN|INDUS|CHAS|  NOX|   RM| AGE|   DIS|RAD|TAX|PTRATIO|     B|LSTAT|MEDV|            features|        prediction|\n",
      "+---+-------+----+-----+----+-----+-----+----+------+---+---+-------+------+-----+----+--------------------+------------------+\n",
      "|  4|0.05646| 0.0|12.83|   0|0.437|6.232|53.7|5.0141|  5|398|   18.7| 386.4|12.34|21.2|[0.05646,0.0,12.8...|   21.243715251433|\n",
      "|  7|0.00906|90.0| 2.97|   0|  0.4|7.088|20.8|7.3073|  1|285|   15.3|394.72| 7.85|32.2|[0.00906,90.0,2.9...|32.138304218784896|\n",
      "|  9|0.53412|20.0| 3.97|   0|0.647| 7.52|89.4|2.1398|  5|264|   13.0|388.37| 7.26|43.1|[0.53412,20.0,3.9...| 36.02289220375284|\n",
      "+---+-------+----+-----+----+-----+-----+----+------+---+---+-------+------+-----+----+--------------------+------------------+\n",
      "only showing top 3 rows\n",
      "\n"
     ]
    }
   ],
   "source": [
    "linear = LinearRegression(featuresCol=\"features\", labelCol=\"MEDV\")\n",
    "linear_model = linear.fit(train_df)\n",
    "\n",
    "predictions_df = linear_model.transform(test_df)\n",
    "predictions_df.show(3)"
   ]
  },
  {
   "cell_type": "markdown",
   "metadata": {},
   "source": [
    "    Summarize the model over the training set and print out some metrics:"
   ]
  },
  {
   "cell_type": "code",
   "execution_count": 11,
   "metadata": {},
   "outputs": [
    {
     "name": "stdout",
     "output_type": "stream",
     "text": [
      "R Squared (R2) on test data: 0.729246\n",
      "Root Mean Squared Error (RMSE) on test data: 4.680199\n"
     ]
    }
   ],
   "source": [
    "trainingSummary = linear_model.summary\n",
    "print(\"R Squared (R2) on test data: %f\" % trainingSummary.r2)\n",
    "print(\"Root Mean Squared Error (RMSE) on test data: %f\" % trainingSummary.rootMeanSquaredError)"
   ]
  },
  {
   "cell_type": "markdown",
   "metadata": {},
   "source": [
    "    Looking the perfomance of the model in test data"
   ]
  },
  {
   "cell_type": "code",
   "execution_count": 12,
   "metadata": {},
   "outputs": [
    {
     "name": "stdout",
     "output_type": "stream",
     "text": [
      "R Squared (R2) on test data: 0.692145\n",
      "Root Mean Squared Error (RMSE) on test data: 4.54441\n"
     ]
    }
   ],
   "source": [
    "evaluator_r2 = RegressionEvaluator(labelCol=\"MEDV\", predictionCol=\"prediction\", metricName=\"r2\")\n",
    "print(\"R Squared (R2) on test data: %g\" % evaluator_r2.evaluate(predictions_df))\n",
    "evaluator_rmse = RegressionEvaluator(labelCol=\"MEDV\", predictionCol=\"prediction\", metricName=\"rmse\")\n",
    "print(\"Root Mean Squared Error (RMSE) on test data: %g\" % evaluator_rmse.evaluate(predictions_df))"
   ]
  },
  {
   "cell_type": "markdown",
   "metadata": {},
   "source": [
    "## Models"
   ]
  },
  {
   "cell_type": "markdown",
   "metadata": {},
   "source": [
    "Now, we will run and summarize some models:\n",
    "   - **Linear Regression** \n",
    "   - **Decision Tree Regression**\n",
    "   - **Gradient Boosting Regressor**\n",
    "   - **Random Forest Regressor**"
   ]
  },
  {
   "cell_type": "code",
   "execution_count": 47,
   "metadata": {},
   "outputs": [],
   "source": [
    "def compile_model(model, train_df, test_df):\n",
    "    train_model = model.fit(train_df)\n",
    "    predictions = train_model.transform(test_df)\n",
    "    print(model)\n",
    "    evaluator_r2 = RegressionEvaluator(labelCol=\"MEDV\", predictionCol=\"prediction\", metricName=\"r2\")\n",
    "    print(\"R Squared (R2) on test data: %g\" % evaluator_r2.evaluate(predictions))\n",
    "    evaluator_rmse = RegressionEvaluator(labelCol=\"MEDV\", predictionCol=\"prediction\", metricName=\"rmse\")\n",
    "    print(\"Root Mean Squared Error (RMSE) on test data: %g\" % evaluator_rmse.evaluate(predictions))\n",
    "\n",
    "    \n",
    "model_linear = LinearRegression(featuresCol=\"features\", labelCol=\"MEDV\")    \n",
    "model_DecionTree = DecisionTreeRegressor(featuresCol ='features', labelCol = 'MEDV')\n",
    "model_gbt = GBTRegressor(featuresCol = 'features', labelCol = 'MEDV', maxIter=10)\n",
    "\n",
    "\n",
    "model_rf = RandomForestRegressor(featuresCol= 'features', labelCol= 'MEDV')\n",
    "rf = model_rf.fit(train_df)"
   ]
  },
  {
   "cell_type": "code",
   "execution_count": 40,
   "metadata": {},
   "outputs": [
    {
     "name": "stdout",
     "output_type": "stream",
     "text": [
      "RandomForestRegressor_c7d098e92c22\n",
      "R Squared (R2) on test data: 0.841643\n",
      "Root Mean Squared Error (RMSE) on test data = 3.25929\n"
     ]
    }
   ],
   "source": [
    "compile_model(model_rf, train_df, test_df)"
   ]
  },
  {
   "cell_type": "code",
   "execution_count": 48,
   "metadata": {},
   "outputs": [
    {
     "data": {
      "text/plain": [
       "Text(0.5, 1.0, 'Feature Importances')"
      ]
     },
     "execution_count": 48,
     "metadata": {},
     "output_type": "execute_result"
    },
    {
     "data": {
      "image/png": "[encoded data removed]",
      "text/plain": [
       "<Figure size 432x288 with 1 Axes>"
      ]
     },
     "metadata": {
      "needs_background": "light"
     },
     "output_type": "display_data"
    }
   ],
   "source": [
    "import matplotlib.pyplot as plt\n",
    "\n",
    "importances = rf.featureImportances\n",
    "\n",
    "x_values = list(range(len(importances)))\n",
    "\n",
    "plt.bar(x_values, importances, orientation = 'vertical')\n",
    "plt.xticks(x_values, training_features, rotation=40)\n",
    "plt.ylabel('Importance')\n",
    "plt.xlabel('Feature')\n",
    "plt.title('Feature Importances')"
   ]
  },
  {
   "cell_type": "markdown",
   "metadata": {},
   "source": [
    "## HYPERPARAMETER GRID"
   ]
  },
  {
   "cell_type": "markdown",
   "metadata": {},
   "source": [
    "    The hyperparameter grid predefines parameter values to test when we run the model. The model is iteratively reevaluated using cross-validation for each combination of parameter values. \n",
    "\n",
    "    Depending on the environment, testing too many parameters may be too computationally expensive and lead to poor performance. Users might consider adaptive sampling techniques to reduce the number of evaluations."
   ]
  },
  {
   "cell_type": "markdown",
   "metadata": {},
   "source": [
    "#### Random Forest Regressor"
   ]
  },
  {
   "cell_type": "code",
   "execution_count": 17,
   "metadata": {},
   "outputs": [],
   "source": [
    "rf = RandomForestRegressor(featuresCol=\"features\", labelCol=\"MEDV\")\n",
    "pipeline = Pipeline(stages=[vector_assembler, rf])\n",
    "\n",
    "param_grid = ParamGridBuilder() \\\n",
    "    .addGrid(rf.numTrees, [int(x) for x in np.linspace(start = 10, stop = 50, num = 3)]) \\\n",
    "    .addGrid(rf.maxDepth, [int(x) for x in np.linspace(start = 5, stop = 25, num = 3)]) \\\n",
    "    .build()\n",
    "\n",
    "evaluator = RegressionEvaluator(labelCol=\"MEDV\", predictionCol=\"prediction\", metricName=\"r2\")\n",
    "\n",
    "crossval = CrossValidator(estimator=pipeline,\n",
    "                          estimatorParamMaps=param_grid,\n",
    "                          evaluator=evaluator,\n",
    "                          numFolds=10)\n",
    "\n",
    "optimized_model = crossval.fit(housing_df)"
   ]
  },
  {
   "cell_type": "code",
   "execution_count": 18,
   "metadata": {},
   "outputs": [
    {
     "data": {
      "text/plain": [
       "[('cacheNodeIds', False),\n",
       " ('checkpointInterval', 10),\n",
       " ('featureSubsetStrategy', 'auto'),\n",
       " ('featuresCol', 'features'),\n",
       " ('impurity', 'variance'),\n",
       " ('labelCol', 'MEDV'),\n",
       " ('maxBins', 32),\n",
       " ('maxDepth', 25),\n",
       " ('maxMemoryInMB', 256),\n",
       " ('minInfoGain', 0.0),\n",
       " ('minInstancesPerNode', 1),\n",
       " ('numTrees', 50),\n",
       " ('predictionCol', 'prediction'),\n",
       " ('seed', -8735781477787670039),\n",
       " ('subsamplingRate', 1.0)]"
      ]
     },
     "execution_count": 18,
     "metadata": {},
     "output_type": "execute_result"
    }
   ],
   "source": [
    "[(k.name, v) for (k, v) in optimized_model.bestModel.stages[1].extractParamMap().items()]"
   ]
  },
  {
   "cell_type": "code",
   "execution_count": 19,
   "metadata": {},
   "outputs": [
    {
     "data": {
      "text/plain": [
       "[0.8215622083886513,\n",
       " 0.8392666108601831,\n",
       " 0.8393018036075542,\n",
       " 0.8439429181794826,\n",
       " 0.8611486373486301,\n",
       " 0.8610827871364577,\n",
       " 0.8432089209705431,\n",
       " 0.8696170022249725,\n",
       " 0.8696463973437624]"
      ]
     },
     "execution_count": 19,
     "metadata": {},
     "output_type": "execute_result"
    }
   ],
   "source": [
    "optimized_model.avgMetrics\n"
   ]
  },
  {
   "cell_type": "code",
   "execution_count": 20,
   "metadata": {},
   "outputs": [
    {
     "data": {
      "text/plain": [
       "0.9849675881033293"
      ]
     },
     "execution_count": 20,
     "metadata": {},
     "output_type": "execute_result"
    }
   ],
   "source": [
    "_, evaluation_df = housing_df.randomSplit([0.8, 0.2], seed=17)\n",
    "evaluator.evaluate(optimized_model.transform(evaluation_df))"
   ]
  },
  {
   "cell_type": "markdown",
   "metadata": {},
   "source": [
    "#### Linear Regression"
   ]
  },
  {
   "cell_type": "code",
   "execution_count": null,
   "metadata": {},
   "outputs": [],
   "source": [
    "linear = LinearRegression(featuresCol=\"features\", labelCol=\"MEDV\")\n",
    "pipeline = Pipeline(stages=[vector_assembler, linear])\n",
    "param_grid = ParamGridBuilder() \\\n",
    "    .addGrid(linear.elasticNetParam, [0.01, 0.02, 0.05]) \\\n",
    "    .addGrid(linear.solver, ['normal', 'l-bfgs']) \\\n",
    "    .addGrid(linear.regParam, [0.4, 0.5, 0.6]).build()\n",
    "\n",
    "crossval = CrossValidator(estimator=pipeline,\n",
    "                          estimatorParamMaps=param_grid,\n",
    "                          evaluator=evaluator,\n",
    "                          numFolds=10)\n",
    "\n",
    "optimized_model = crossval.fit(housing_df)"
   ]
  },
  {
   "cell_type": "code",
   "execution_count": null,
   "metadata": {},
   "outputs": [],
   "source": [
    "[(k.name, v) for (k, v) in optimized_model.bestModel.stages[1].extractParamMap().items()]\n"
   ]
  },
  {
   "cell_type": "code",
   "execution_count": null,
   "metadata": {},
   "outputs": [],
   "source": [
    "optimized_model.avgMetrics\n"
   ]
  },
  {
   "cell_type": "code",
   "execution_count": null,
   "metadata": {},
   "outputs": [],
   "source": [
    "_, evaluation_df = housing_df.randomSplit([0.8, 0.2], seed=17)\n",
    "evaluator.evaluate(optimized_model.transform(evaluation_df))\n"
   ]
  },
  {
   "cell_type": "code",
   "execution_count": null,
   "metadata": {},
   "outputs": [],
   "source": []
  }
 ],
 "metadata": {
  "kernelspec": {
   "display_name": "Python 3",
   "language": "python",
   "name": "python3"
  },
  "language_info": {
   "codemirror_mode": {
    "name": "ipython",
    "version": 3
   },
   "file_extension": ".py",
   "mimetype": "text/x-python",
   "name": "python",
   "nbconvert_exporter": "python",
   "pygments_lexer": "ipython3",
   "version": "3.7.6"
  }
 },
 "nbformat": 4,
 "nbformat_minor": 2
}
